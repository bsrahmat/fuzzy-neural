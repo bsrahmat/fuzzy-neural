{
 "cells": [
  {
   "cell_type": "markdown",
   "metadata": {},
   "source": [
    "# Arduino Temperature PID Control\n",
    "\n",
    "Arduino Temperature PID Control\n",
    "\n",
    "![](model2sensorsuhu6.png)"
   ]
  },
  {
   "cell_type": "markdown",
   "metadata": {},
   "source": [
    "# Simulate a PID Controller\n",
    "\n",
    "![](model2sensorsuhu7.png)"
   ]
  },
  {
   "cell_type": "markdown",
   "metadata": {},
   "source": [
    "It is suggested to tune the controller in simulation before implementing with an Arduino. Tuning on a device that takes 10-20 minutes per test is much slower than running a PID controller in simulation. Once optimized PID tuning values are obtained, demonstrate the performance with the physical control lab.\n",
    "\n",
    "Tune the PID controller to minimize the sum of absolute error and achieve an overshoot ratio less than 10%. Quantify the controller performance in terms of settling time, decay ratio, overshoot ratio, peak time, and rise time."
   ]
  },
  {
   "cell_type": "code",
   "execution_count": 6,
   "metadata": {},
   "outputs": [
    {
     "name": "stdout",
     "output_type": "stream",
     "text": [
      "TCLab version 0.4.6\n",
      "Arduino Leonardo connected on port COM7 at 115200 baud.\n",
      "TCLab Firmware Version 1.01.\n",
      "Heater: 0% T PV: 40.88degC T SP: 40degC\n",
      "Heater: 0% T PV: 40.78degC T SP: 40degC\n",
      "Heater: 0% T PV: 40.56degC T SP: 40degC\n",
      "Heater: 0% T PV: 40.56degC T SP: 40degC\n",
      "Heater: 0% T PV: 40.46degC T SP: 40degC\n",
      "Heater: 0% T PV: 40.23degC T SP: 40degC\n",
      "Heater: 0% T PV: 40.23degC T SP: 40degC\n",
      "Heater: 0% T PV: 40.23degC T SP: 40degC\n",
      "Heater: 0% T PV: 40.23degC T SP: 40degC\n",
      "Heater: 0% T PV: 40.04degC T SP: 40degC\n"
     ]
    }
   ],
   "source": [
    "import tclab\n",
    "import time\n",
    "import numpy as np\n",
    "from simple_pid import PID\n",
    "\n",
    "# Connect to Arduino\n",
    "a = tclab.TCLab()\n",
    "\n",
    "# Create PID controller\n",
    "pid = PID(Kp=2,Ki=2/136,Kd=0,\\\n",
    "          setpoint=40,sample_time=1.0,output_limits=(0,100))\n",
    "\n",
    "for i in range(50):        # 5 minutes (300 sec)\n",
    "    # pid control\n",
    "    OP = pid(a.T1)\n",
    "    a.Q1(OP)\n",
    "\n",
    "    # print line\n",
    "    print('Heater: ' + str(round(OP,2)) + '%' + \\\n",
    "          ' T PV: '  + str(a.T1) + 'degC' + \\\n",
    "          ' T SP: '  + str(pid.setpoint) + 'degC')\n",
    "\n",
    "    # wait for next sample time\n",
    "    time.sleep(pid.sample_time)"
   ]
  },
  {
   "cell_type": "code",
   "execution_count": null,
   "metadata": {},
   "outputs": [],
   "source": []
  }
 ],
 "metadata": {
  "anaconda-cloud": {},
  "kernelspec": {
   "display_name": "Python 3",
   "language": "python",
   "name": "python3"
  },
  "language_info": {
   "codemirror_mode": {
    "name": "ipython",
    "version": 3
   },
   "file_extension": ".py",
   "mimetype": "text/x-python",
   "name": "python",
   "nbconvert_exporter": "python",
   "pygments_lexer": "ipython3",
   "version": "3.7.1"
  },
  "widgets": {
   "state": {
    "43a770e6b0524d899f4a1126019a0c2f": {
     "views": [
      {
       "cell_index": 1
      }
     ]
    }
   },
   "version": "1.2.0"
  }
 },
 "nbformat": 4,
 "nbformat_minor": 1
}
