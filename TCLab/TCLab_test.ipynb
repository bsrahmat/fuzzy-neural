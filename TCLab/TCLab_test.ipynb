{
 "cells": [
  {
   "cell_type": "code",
   "execution_count": 1,
   "metadata": {},
   "outputs": [
    {
     "name": "stdout",
     "output_type": "stream",
     "text": [
      "Requirement already satisfied: tclab in c:\\programdata\\anaconda3\\lib\\site-packages (0.4.9)\n",
      "Requirement already satisfied: pyserial in c:\\programdata\\anaconda3\\lib\\site-packages (from tclab) (3.4)\n"
     ]
    },
    {
     "data": {
      "text/plain": [
       "0"
      ]
     },
     "execution_count": 1,
     "metadata": {},
     "output_type": "execute_result"
    }
   ],
   "source": [
    "module='tclab'\n",
    "try:\n",
    "    from pip import main as pipmain\n",
    "except:\n",
    "    from pip._internal import main as pipmain\n",
    "pipmain(['install',module])\n",
    "# to upgrade: pipmain(['install','--upgrade',module])"
   ]
  },
  {
   "cell_type": "code",
   "execution_count": 2,
   "metadata": {},
   "outputs": [
    {
     "name": "stdout",
     "output_type": "stream",
     "text": [
      "Opening connection\n",
      "TCLab connected via Arduino on port COM9\n",
      "LED On\n",
      "LED Off\n",
      "Arduino disconnected successfully\n"
     ]
    },
    {
     "data": {
      "text/plain": [
       "True"
      ]
     },
     "execution_count": 2,
     "metadata": {},
     "output_type": "execute_result"
    }
   ],
   "source": [
    "import tclab\n",
    "import time\n",
    "# Connect to Arduino\n",
    "a = tclab.TCLab()\n",
    "print('LED On')\n",
    "a.LED(100)\n",
    "# Pause for 1 second\n",
    "time.sleep(1.0)\n",
    "print('LED Off')\n",
    "a.LED(0)\n",
    "a.close()"
   ]
  },
  {
   "cell_type": "code",
   "execution_count": 3,
   "metadata": {},
   "outputs": [
    {
     "name": "stdout",
     "output_type": "stream",
     "text": [
      "Opening connection\n",
      "TCLab connected via Arduino on port COM9\n",
      "<bound method TCLab.version of <tclab.TCLab object at 0x00000165C671CC88>>\n",
      "LED On\n",
      "LED Power 100\n",
      "LED Power 90\n",
      "LED Power 80\n",
      "LED Power 70\n",
      "LED Power 60\n",
      "LED Power 50\n",
      "LED Power 40\n",
      "LED Power 30\n",
      "LED Power 20\n",
      "LED Power 10\n",
      "LED Power 0\n"
     ]
    }
   ],
   "source": [
    "import tclab\n",
    "import time\n",
    "\n",
    "# Connect to Arduino\n",
    "a = tclab.TCLab()\n",
    "\n",
    "# Get Version\n",
    "print(a.version)\n",
    "\n",
    "# Turn LED on\n",
    "print('LED On')\n",
    "a.LED(100)\n",
    "\n",
    "# Taper LED off\n",
    "for i in range(100,-1,-10):\n",
    "    print('LED Power ' + str(i))\n",
    "    time.sleep(0.5)\n",
    "    a.LED(i)\n"
   ]
  },
  {
   "cell_type": "code",
   "execution_count": null,
   "metadata": {},
   "outputs": [],
   "source": []
  }
 ],
 "metadata": {
  "anaconda-cloud": {},
  "kernelspec": {
   "display_name": "Python 3",
   "language": "python",
   "name": "python3"
  },
  "language_info": {
   "codemirror_mode": {
    "name": "ipython",
    "version": 3
   },
   "file_extension": ".py",
   "mimetype": "text/x-python",
   "name": "python",
   "nbconvert_exporter": "python",
   "pygments_lexer": "ipython3",
   "version": "3.7.3"
  },
  "widgets": {
   "state": {
    "43a770e6b0524d899f4a1126019a0c2f": {
     "views": [
      {
       "cell_index": 1
      }
     ]
    }
   },
   "version": "1.2.0"
  }
 },
 "nbformat": 4,
 "nbformat_minor": 1
}
